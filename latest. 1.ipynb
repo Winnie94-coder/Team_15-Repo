{
 "cells": [
  {
   "cell_type": "code",
   "execution_count": 1,
   "id": "1dafbbdb",
   "metadata": {},
   "outputs": [],
   "source": [
    "import nltk\n",
    "import numpy as np\n",
    "import pandas as pd\n",
    "import matplotlib.pyplot as plt\n",
    "%matplotlib inline\n",
    "import seaborn as sns\n",
    "import re\n",
    "sns.set()\n",
    "\n",
    "#Preprocessing Libraries\n",
    "from sklearn.feature_extraction.text import CountVectorizer , TfidfVectorizer, ENGLISH_STOP_WORDS\n",
    "from sklearn.model_selection import train_test_split"
   ]
  },
  {
   "cell_type": "code",
   "execution_count": 2,
   "id": "52de7463",
   "metadata": {},
   "outputs": [
    {
     "name": "stdout",
     "output_type": "stream",
     "text": [
      "Requirement already satisfied: plotly in /Users/admin/opt/anaconda3/lib/python3.8/site-packages (5.4.0)\n",
      "Requirement already satisfied: tenacity>=6.2.0 in /Users/admin/opt/anaconda3/lib/python3.8/site-packages (from plotly) (8.0.1)\n",
      "Requirement already satisfied: six in /Users/admin/opt/anaconda3/lib/python3.8/site-packages (from plotly) (1.15.0)\n",
      "Note: you may need to restart the kernel to use updated packages.\n"
     ]
    }
   ],
   "source": [
    " pip install plotly"
   ]
  },
  {
   "cell_type": "code",
   "execution_count": 3,
   "id": "cee2159f",
   "metadata": {},
   "outputs": [],
   "source": [
    "import plotly.express as px\n",
    "import matplotlib\n",
    "import matplotlib.pyplot as plt\n",
    "import seaborn as sns\n",
    "%matplotlib inline"
   ]
  },
  {
   "cell_type": "code",
   "execution_count": 4,
   "id": "c1572c33",
   "metadata": {},
   "outputs": [
    {
     "data": {
      "text/html": [
       "<div>\n",
       "<style scoped>\n",
       "    .dataframe tbody tr th:only-of-type {\n",
       "        vertical-align: middle;\n",
       "    }\n",
       "\n",
       "    .dataframe tbody tr th {\n",
       "        vertical-align: top;\n",
       "    }\n",
       "\n",
       "    .dataframe thead th {\n",
       "        text-align: right;\n",
       "    }\n",
       "</style>\n",
       "<table border=\"1\" class=\"dataframe\">\n",
       "  <thead>\n",
       "    <tr style=\"text-align: right;\">\n",
       "      <th></th>\n",
       "      <th>sentiment</th>\n",
       "      <th>message</th>\n",
       "      <th>tweetid</th>\n",
       "    </tr>\n",
       "  </thead>\n",
       "  <tbody>\n",
       "    <tr>\n",
       "      <th>0</th>\n",
       "      <td>1</td>\n",
       "      <td>PolySciMajor EPA chief doesn't think carbon di...</td>\n",
       "      <td>625221</td>\n",
       "    </tr>\n",
       "    <tr>\n",
       "      <th>1</th>\n",
       "      <td>1</td>\n",
       "      <td>It's not like we lack evidence of anthropogeni...</td>\n",
       "      <td>126103</td>\n",
       "    </tr>\n",
       "    <tr>\n",
       "      <th>2</th>\n",
       "      <td>2</td>\n",
       "      <td>RT @RawStory: Researchers say we have three ye...</td>\n",
       "      <td>698562</td>\n",
       "    </tr>\n",
       "    <tr>\n",
       "      <th>3</th>\n",
       "      <td>1</td>\n",
       "      <td>#TodayinMaker# WIRED : 2016 was a pivotal year...</td>\n",
       "      <td>573736</td>\n",
       "    </tr>\n",
       "    <tr>\n",
       "      <th>4</th>\n",
       "      <td>1</td>\n",
       "      <td>RT @SoyNovioDeTodas: It's 2016, and a racist, ...</td>\n",
       "      <td>466954</td>\n",
       "    </tr>\n",
       "  </tbody>\n",
       "</table>\n",
       "</div>"
      ],
      "text/plain": [
       "   sentiment                                            message  tweetid\n",
       "0          1  PolySciMajor EPA chief doesn't think carbon di...   625221\n",
       "1          1  It's not like we lack evidence of anthropogeni...   126103\n",
       "2          2  RT @RawStory: Researchers say we have three ye...   698562\n",
       "3          1  #TodayinMaker# WIRED : 2016 was a pivotal year...   573736\n",
       "4          1  RT @SoyNovioDeTodas: It's 2016, and a racist, ...   466954"
      ]
     },
     "execution_count": 4,
     "metadata": {},
     "output_type": "execute_result"
    }
   ],
   "source": [
    "df = pd.read_csv(\"/Users/admin/Desktop/train.csv\")\n",
    "test_df = pd.read_csv(\"/Users/admin/Desktop/test_with_no_labels.csv\")\n",
    "df.head()"
   ]
  },
  {
   "cell_type": "code",
   "execution_count": 5,
   "id": "fa8708be",
   "metadata": {},
   "outputs": [],
   "source": [
    "from nltk.corpus import stopwords"
   ]
  },
  {
   "cell_type": "code",
   "execution_count": 6,
   "id": "8e31a46e",
   "metadata": {},
   "outputs": [
    {
     "name": "stdout",
     "output_type": "stream",
     "text": [
      "showing info https://raw.githubusercontent.com/nltk/nltk_data/gh-pages/index.xml\n"
     ]
    },
    {
     "data": {
      "text/plain": [
       "True"
      ]
     },
     "execution_count": 6,
     "metadata": {},
     "output_type": "execute_result"
    }
   ],
   "source": [
    "nltk.download()"
   ]
  },
  {
   "cell_type": "markdown",
   "id": "92b78762",
   "metadata": {},
   "source": [
    "# DATA CLEANING "
   ]
  },
  {
   "cell_type": "code",
   "execution_count": 7,
   "id": "4ef3f15f",
   "metadata": {},
   "outputs": [],
   "source": [
    "from nltk.corpus import stopwords"
   ]
  },
  {
   "cell_type": "code",
   "execution_count": 8,
   "id": "7e8c985e",
   "metadata": {},
   "outputs": [
    {
     "name": "stdout",
     "output_type": "stream",
     "text": [
      "['i', 'me', 'my', 'myself', 'we', 'our', 'ours', 'ourselves', 'you', \"you're\", \"you've\", \"you'll\", \"you'd\", 'your', 'yours', 'yourself', 'yourselves', 'he', 'him', 'his', 'himself', 'she', \"she's\", 'her', 'hers', 'herself', 'it', \"it's\", 'its', 'itself', 'they', 'them', 'their', 'theirs', 'themselves', 'what', 'which', 'who', 'whom', 'this', 'that', \"that'll\", 'these', 'those', 'am', 'is', 'are', 'was', 'were', 'be', 'been', 'being', 'have', 'has', 'had', 'having', 'do', 'does', 'did', 'doing', 'a', 'an', 'the', 'and', 'but', 'if', 'or', 'because', 'as', 'until', 'while', 'of', 'at', 'by', 'for', 'with', 'about', 'against', 'between', 'into', 'through', 'during', 'before', 'after', 'above', 'below', 'to', 'from', 'up', 'down', 'in', 'out', 'on', 'off', 'over', 'under', 'again', 'further', 'then', 'once', 'here', 'there', 'when', 'where', 'why', 'how', 'all', 'any', 'both', 'each', 'few', 'more', 'most', 'other', 'some', 'such', 'no', 'nor', 'not', 'only', 'own', 'same', 'so', 'than', 'too', 'very', 's', 't', 'can', 'will', 'just', 'don', \"don't\", 'should', \"should've\", 'now', 'd', 'll', 'm', 'o', 're', 've', 'y', 'ain', 'aren', \"aren't\", 'couldn', \"couldn't\", 'didn', \"didn't\", 'doesn', \"doesn't\", 'hadn', \"hadn't\", 'hasn', \"hasn't\", 'haven', \"haven't\", 'isn', \"isn't\", 'ma', 'mightn', \"mightn't\", 'mustn', \"mustn't\", 'needn', \"needn't\", 'shan', \"shan't\", 'shouldn', \"shouldn't\", 'wasn', \"wasn't\", 'weren', \"weren't\", 'won', \"won't\", 'wouldn', \"wouldn't\"]\n"
     ]
    }
   ],
   "source": [
    "#listing english stopwords\n",
    "stopwords_list = stopwords.words('english')\n",
    "print(stopwords_list)"
   ]
  },
  {
   "cell_type": "code",
   "execution_count": 9,
   "id": "769c772f",
   "metadata": {},
   "outputs": [
    {
     "name": "stdout",
     "output_type": "stream",
     "text": [
      "[1, 2, 0, -1]\n"
     ]
    }
   ],
   "source": [
    "#listing sentiments \n",
    "sentiment_labels = list(df.sentiment.unique())\n",
    "print(sentiment_labels)"
   ]
  },
  {
   "cell_type": "code",
   "execution_count": 10,
   "id": "50111e1d",
   "metadata": {},
   "outputs": [
    {
     "data": {
      "image/png": "[encoded data removed]",
      "text/plain": [
       "<Figure size 432x288 with 1 Axes>"
      ]
     },
     "metadata": {
      "needs_background": "light"
     },
     "output_type": "display_data"
    }
   ],
   "source": [
    "#seeing how sentiment count is distributed \n",
    "df['sentiment'].value_counts().plot(kind = 'bar')\n",
    "plt.show()  #Plotting number of climate change sentiments in each group"
   ]
  },
  {
   "cell_type": "code",
   "execution_count": 11,
   "id": "ec0fcb7a",
   "metadata": {},
   "outputs": [
    {
     "name": "stdout",
     "output_type": "stream",
     "text": [
      "!\"#$%&'()*+,-./:;<=>?@[\\]^_`{|}~\n"
     ]
    }
   ],
   "source": [
    "import string\n",
    "print(string.punctuation)"
   ]
  },
  {
   "cell_type": "markdown",
   "id": "129d592a",
   "metadata": {},
   "source": [
    "Remove punctuation in message"
   ]
  },
  {
   "cell_type": "code",
   "execution_count": 12,
   "id": "ea4ae9ad",
   "metadata": {},
   "outputs": [],
   "source": [
    "\n",
    "import re \n",
    "def remove_punct(message):\n",
    "    new_words = []\n",
    "    for word in message:\n",
    "        w = re.sub(r'[^\\w\\s]','',word) #remove everything except words and space\n",
    "        w = re.sub(r'_','',w) #how to remove underscore as well\n",
    "        new_words.append(w)\n",
    "    return new_words\n"
   ]
  },
  {
   "cell_type": "code",
   "execution_count": 13,
   "id": "5d02ca31",
   "metadata": {},
   "outputs": [],
   "source": [
    "from nltk.tokenize import word_tokenize, TreebankWordTokenizer"
   ]
  },
  {
   "cell_type": "code",
   "execution_count": 14,
   "id": "457eb9ae",
   "metadata": {},
   "outputs": [],
   "source": [
    "tokeniser = TreebankWordTokenizer()\n",
    "df['tokens'] = df['message'].apply(tokeniser.tokenize)"
   ]
  },
  {
   "cell_type": "code",
   "execution_count": 15,
   "id": "7eade276",
   "metadata": {},
   "outputs": [
    {
     "data": {
      "text/plain": [
       "['RT',\n",
       " '@',\n",
       " 'RawStory',\n",
       " ':',\n",
       " 'Researchers',\n",
       " 'say',\n",
       " 'we',\n",
       " 'have',\n",
       " 'three',\n",
       " 'years',\n",
       " 'to',\n",
       " 'act',\n",
       " 'on',\n",
       " 'climate',\n",
       " 'change',\n",
       " 'before',\n",
       " 'it’s',\n",
       " 'too',\n",
       " 'late',\n",
       " 'https',\n",
       " ':',\n",
       " '//t.co/WdT0KdUr2f',\n",
       " 'https',\n",
       " ':',\n",
       " '//t.co/Z0ANPT…']"
      ]
     },
     "execution_count": 15,
     "metadata": {},
     "output_type": "execute_result"
    }
   ],
   "source": [
    "df['tokens'].iloc[2] "
   ]
  },
  {
   "cell_type": "markdown",
   "id": "17639671",
   "metadata": {},
   "source": [
    "Data contains website pages or links, from tokenization \n",
    "Remove websites as they add no value "
   ]
  },
  {
   "cell_type": "code",
   "execution_count": 16,
   "id": "9a27d019",
   "metadata": {},
   "outputs": [],
   "source": [
    "df['message'] = df['message'].replace(to_replace=r'^https?:\\/\\/.*[\\r\\n]*',value='',regex=True)"
   ]
  },
  {
   "cell_type": "markdown",
   "id": "84422e01",
   "metadata": {},
   "source": [
    "Stemming the words"
   ]
  },
  {
   "cell_type": "code",
   "execution_count": 17,
   "id": "ad0ff1f6",
   "metadata": {},
   "outputs": [],
   "source": [
    "from nltk import SnowballStemmer, PorterStemmer, LancasterStemmer"
   ]
  },
  {
   "cell_type": "code",
   "execution_count": 18,
   "id": "05a49088",
   "metadata": {},
   "outputs": [],
   "source": [
    " words = 'caring cares cared caringly carefully'"
   ]
  },
  {
   "cell_type": "code",
   "execution_count": 19,
   "id": "6b6bf2a8",
   "metadata": {},
   "outputs": [
    {
     "name": "stdout",
     "output_type": "stream",
     "text": [
      "care\n",
      "care\n",
      "care\n",
      "care\n",
      "care\n"
     ]
    }
   ],
   "source": [
    "# find the stem of each word in words\n",
    "stemmer = SnowballStemmer('english')\n",
    "for word in words.split():\n",
    "    print(stemmer.stem(word))"
   ]
  },
  {
   "cell_type": "code",
   "execution_count": 20,
   "id": "08438994",
   "metadata": {},
   "outputs": [],
   "source": [
    "def df_stemmer(words, stemmer):\n",
    "    return [stemmer.stem(word) for word in words]"
   ]
  },
  {
   "cell_type": "code",
   "execution_count": 21,
   "id": "f2b38202",
   "metadata": {},
   "outputs": [
    {
     "data": {
      "text/html": [
       "<div>\n",
       "<style scoped>\n",
       "    .dataframe tbody tr th:only-of-type {\n",
       "        vertical-align: middle;\n",
       "    }\n",
       "\n",
       "    .dataframe tbody tr th {\n",
       "        vertical-align: top;\n",
       "    }\n",
       "\n",
       "    .dataframe thead th {\n",
       "        text-align: right;\n",
       "    }\n",
       "</style>\n",
       "<table border=\"1\" class=\"dataframe\">\n",
       "  <thead>\n",
       "    <tr style=\"text-align: right;\">\n",
       "      <th></th>\n",
       "      <th>sentiment</th>\n",
       "      <th>message</th>\n",
       "      <th>tweetid</th>\n",
       "      <th>tokens</th>\n",
       "      <th>stemmed</th>\n",
       "    </tr>\n",
       "  </thead>\n",
       "  <tbody>\n",
       "    <tr>\n",
       "      <th>0</th>\n",
       "      <td>1</td>\n",
       "      <td>PolySciMajor EPA chief doesn't think carbon di...</td>\n",
       "      <td>625221</td>\n",
       "      <td>[PolySciMajor, EPA, chief, does, n't, think, c...</td>\n",
       "      <td>[polyscimajor, epa, chief, doe, n't, think, ca...</td>\n",
       "    </tr>\n",
       "    <tr>\n",
       "      <th>1</th>\n",
       "      <td>1</td>\n",
       "      <td>It's not like we lack evidence of anthropogeni...</td>\n",
       "      <td>126103</td>\n",
       "      <td>[It, 's, not, like, we, lack, evidence, of, an...</td>\n",
       "      <td>[it, 's, not, like, we, lack, evid, of, anthro...</td>\n",
       "    </tr>\n",
       "    <tr>\n",
       "      <th>2</th>\n",
       "      <td>2</td>\n",
       "      <td>RT @RawStory: Researchers say we have three ye...</td>\n",
       "      <td>698562</td>\n",
       "      <td>[RT, @, RawStory, :, Researchers, say, we, hav...</td>\n",
       "      <td>[rt, @, rawstori, :, research, say, we, have, ...</td>\n",
       "    </tr>\n",
       "    <tr>\n",
       "      <th>3</th>\n",
       "      <td>1</td>\n",
       "      <td>#TodayinMaker# WIRED : 2016 was a pivotal year...</td>\n",
       "      <td>573736</td>\n",
       "      <td>[#, TodayinMaker, #, WIRED, :, 2016, was, a, p...</td>\n",
       "      <td>[#, todayinmak, #, wire, :, 2016, was, a, pivo...</td>\n",
       "    </tr>\n",
       "    <tr>\n",
       "      <th>4</th>\n",
       "      <td>1</td>\n",
       "      <td>RT @SoyNovioDeTodas: It's 2016, and a racist, ...</td>\n",
       "      <td>466954</td>\n",
       "      <td>[RT, @, SoyNovioDeTodas, :, It, 's, 2016, ,, a...</td>\n",
       "      <td>[rt, @, soynoviodetoda, :, it, 's, 2016, ,, an...</td>\n",
       "    </tr>\n",
       "  </tbody>\n",
       "</table>\n",
       "</div>"
      ],
      "text/plain": [
       "   sentiment                                            message  tweetid  \\\n",
       "0          1  PolySciMajor EPA chief doesn't think carbon di...   625221   \n",
       "1          1  It's not like we lack evidence of anthropogeni...   126103   \n",
       "2          2  RT @RawStory: Researchers say we have three ye...   698562   \n",
       "3          1  #TodayinMaker# WIRED : 2016 was a pivotal year...   573736   \n",
       "4          1  RT @SoyNovioDeTodas: It's 2016, and a racist, ...   466954   \n",
       "\n",
       "                                              tokens  \\\n",
       "0  [PolySciMajor, EPA, chief, does, n't, think, c...   \n",
       "1  [It, 's, not, like, we, lack, evidence, of, an...   \n",
       "2  [RT, @, RawStory, :, Researchers, say, we, hav...   \n",
       "3  [#, TodayinMaker, #, WIRED, :, 2016, was, a, p...   \n",
       "4  [RT, @, SoyNovioDeTodas, :, It, 's, 2016, ,, a...   \n",
       "\n",
       "                                             stemmed  \n",
       "0  [polyscimajor, epa, chief, doe, n't, think, ca...  \n",
       "1  [it, 's, not, like, we, lack, evid, of, anthro...  \n",
       "2  [rt, @, rawstori, :, research, say, we, have, ...  \n",
       "3  [#, todayinmak, #, wire, :, 2016, was, a, pivo...  \n",
       "4  [rt, @, soynoviodetoda, :, it, 's, 2016, ,, an...  "
      ]
     },
     "execution_count": 21,
     "metadata": {},
     "output_type": "execute_result"
    }
   ],
   "source": [
    "df['stemmed'] = df['tokens'].apply(lambda x: [stemmer.stem(y) for y in x]) # Stem every word.\n",
    "df.head() # Print dataframe"
   ]
  },
  {
   "cell_type": "code",
   "execution_count": 22,
   "id": "a185f1d7",
   "metadata": {},
   "outputs": [
    {
     "name": "stderr",
     "output_type": "stream",
     "text": [
      "[nltk_data] Downloading package wordnet to /Users/admin/nltk_data...\n",
      "[nltk_data]   Package wordnet is already up-to-date!\n"
     ]
    },
    {
     "name": "stdout",
     "output_type": "stream",
     "text": [
      "cat\n",
      "cactus\n",
      "goose\n",
      "rock\n",
      "python\n",
      "good\n",
      "best\n",
      "run\n",
      "run\n"
     ]
    }
   ],
   "source": [
    "from nltk.stem import WordNetLemmatizer\n",
    "nltk.download('wordnet')\n",
    "\n",
    "lemmatizer = WordNetLemmatizer()\n",
    "\n",
    "print(lemmatizer.lemmatize(\"cats\"))\n",
    "print(lemmatizer.lemmatize(\"cacti\"))\n",
    "print(lemmatizer.lemmatize(\"geese\"))\n",
    "print(lemmatizer.lemmatize(\"rocks\"))\n",
    "print(lemmatizer.lemmatize(\"python\"))\n",
    "print(lemmatizer.lemmatize(\"better\", pos=\"a\"))\n",
    "print(lemmatizer.lemmatize(\"best\", pos=\"a\"))\n",
    "print(lemmatizer.lemmatize(\"run\"))\n",
    "print(lemmatizer.lemmatize(\"ran\",'v'))"
   ]
  },
  {
   "cell_type": "code",
   "execution_count": 23,
   "id": "c3e7611f",
   "metadata": {},
   "outputs": [],
   "source": [
    "def df_lemma(words, lemmatizer):\n",
    "    return [lemmatizer.lemmatize(word) for word in words]"
   ]
  },
  {
   "cell_type": "code",
   "execution_count": 24,
   "id": "98668eed",
   "metadata": {},
   "outputs": [],
   "source": [
    "df['lemma'] = df['tokens'].apply(df_lemma, args=(lemmatizer, ))"
   ]
  },
  {
   "cell_type": "code",
   "execution_count": 25,
   "id": "01d88276",
   "metadata": {},
   "outputs": [
    {
     "data": {
      "text/html": [
       "<div>\n",
       "<style scoped>\n",
       "    .dataframe tbody tr th:only-of-type {\n",
       "        vertical-align: middle;\n",
       "    }\n",
       "\n",
       "    .dataframe tbody tr th {\n",
       "        vertical-align: top;\n",
       "    }\n",
       "\n",
       "    .dataframe thead th {\n",
       "        text-align: right;\n",
       "    }\n",
       "</style>\n",
       "<table border=\"1\" class=\"dataframe\">\n",
       "  <thead>\n",
       "    <tr style=\"text-align: right;\">\n",
       "      <th></th>\n",
       "      <th>sentiment</th>\n",
       "      <th>message</th>\n",
       "      <th>tweetid</th>\n",
       "      <th>tokens</th>\n",
       "      <th>stemmed</th>\n",
       "      <th>lemma</th>\n",
       "    </tr>\n",
       "  </thead>\n",
       "  <tbody>\n",
       "    <tr>\n",
       "      <th>0</th>\n",
       "      <td>1</td>\n",
       "      <td>PolySciMajor EPA chief doesn't think carbon di...</td>\n",
       "      <td>625221</td>\n",
       "      <td>[PolySciMajor, EPA, chief, does, n't, think, c...</td>\n",
       "      <td>[polyscimajor, epa, chief, doe, n't, think, ca...</td>\n",
       "      <td>[PolySciMajor, EPA, chief, doe, n't, think, ca...</td>\n",
       "    </tr>\n",
       "    <tr>\n",
       "      <th>1</th>\n",
       "      <td>1</td>\n",
       "      <td>It's not like we lack evidence of anthropogeni...</td>\n",
       "      <td>126103</td>\n",
       "      <td>[It, 's, not, like, we, lack, evidence, of, an...</td>\n",
       "      <td>[it, 's, not, like, we, lack, evid, of, anthro...</td>\n",
       "      <td>[It, 's, not, like, we, lack, evidence, of, an...</td>\n",
       "    </tr>\n",
       "    <tr>\n",
       "      <th>2</th>\n",
       "      <td>2</td>\n",
       "      <td>RT @RawStory: Researchers say we have three ye...</td>\n",
       "      <td>698562</td>\n",
       "      <td>[RT, @, RawStory, :, Researchers, say, we, hav...</td>\n",
       "      <td>[rt, @, rawstori, :, research, say, we, have, ...</td>\n",
       "      <td>[RT, @, RawStory, :, Researchers, say, we, hav...</td>\n",
       "    </tr>\n",
       "    <tr>\n",
       "      <th>3</th>\n",
       "      <td>1</td>\n",
       "      <td>#TodayinMaker# WIRED : 2016 was a pivotal year...</td>\n",
       "      <td>573736</td>\n",
       "      <td>[#, TodayinMaker, #, WIRED, :, 2016, was, a, p...</td>\n",
       "      <td>[#, todayinmak, #, wire, :, 2016, was, a, pivo...</td>\n",
       "      <td>[#, TodayinMaker, #, WIRED, :, 2016, wa, a, pi...</td>\n",
       "    </tr>\n",
       "    <tr>\n",
       "      <th>4</th>\n",
       "      <td>1</td>\n",
       "      <td>RT @SoyNovioDeTodas: It's 2016, and a racist, ...</td>\n",
       "      <td>466954</td>\n",
       "      <td>[RT, @, SoyNovioDeTodas, :, It, 's, 2016, ,, a...</td>\n",
       "      <td>[rt, @, soynoviodetoda, :, it, 's, 2016, ,, an...</td>\n",
       "      <td>[RT, @, SoyNovioDeTodas, :, It, 's, 2016, ,, a...</td>\n",
       "    </tr>\n",
       "  </tbody>\n",
       "</table>\n",
       "</div>"
      ],
      "text/plain": [
       "   sentiment                                            message  tweetid  \\\n",
       "0          1  PolySciMajor EPA chief doesn't think carbon di...   625221   \n",
       "1          1  It's not like we lack evidence of anthropogeni...   126103   \n",
       "2          2  RT @RawStory: Researchers say we have three ye...   698562   \n",
       "3          1  #TodayinMaker# WIRED : 2016 was a pivotal year...   573736   \n",
       "4          1  RT @SoyNovioDeTodas: It's 2016, and a racist, ...   466954   \n",
       "\n",
       "                                              tokens  \\\n",
       "0  [PolySciMajor, EPA, chief, does, n't, think, c...   \n",
       "1  [It, 's, not, like, we, lack, evidence, of, an...   \n",
       "2  [RT, @, RawStory, :, Researchers, say, we, hav...   \n",
       "3  [#, TodayinMaker, #, WIRED, :, 2016, was, a, p...   \n",
       "4  [RT, @, SoyNovioDeTodas, :, It, 's, 2016, ,, a...   \n",
       "\n",
       "                                             stemmed  \\\n",
       "0  [polyscimajor, epa, chief, doe, n't, think, ca...   \n",
       "1  [it, 's, not, like, we, lack, evid, of, anthro...   \n",
       "2  [rt, @, rawstori, :, research, say, we, have, ...   \n",
       "3  [#, todayinmak, #, wire, :, 2016, was, a, pivo...   \n",
       "4  [rt, @, soynoviodetoda, :, it, 's, 2016, ,, an...   \n",
       "\n",
       "                                               lemma  \n",
       "0  [PolySciMajor, EPA, chief, doe, n't, think, ca...  \n",
       "1  [It, 's, not, like, we, lack, evidence, of, an...  \n",
       "2  [RT, @, RawStory, :, Researchers, say, we, hav...  \n",
       "3  [#, TodayinMaker, #, WIRED, :, 2016, wa, a, pi...  \n",
       "4  [RT, @, SoyNovioDeTodas, :, It, 's, 2016, ,, a...  "
      ]
     },
     "execution_count": 25,
     "metadata": {},
     "output_type": "execute_result"
    }
   ],
   "source": [
    "df.head()"
   ]
  },
  {
   "cell_type": "markdown",
   "id": "b95df3e9",
   "metadata": {},
   "source": [
    "Checking results of lemmatization"
   ]
  },
  {
   "cell_type": "code",
   "execution_count": null,
   "id": "a6917217",
   "metadata": {},
   "outputs": [],
   "source": []
  },
  {
   "cell_type": "markdown",
   "id": "5ca3a11c",
   "metadata": {},
   "source": [
    "# BAG OF WORDS"
   ]
  },
  {
   "cell_type": "code",
   "execution_count": 26,
   "id": "eda6b9f2",
   "metadata": {},
   "outputs": [],
   "source": [
    "def bag_of_words_count(words, word_dict={}):\n",
    "    \"\"\" this function takes in a list of words and returns a dictionary \n",
    "        with each word as a key, and the value represents the number of \n",
    "        times that word appeared\"\"\"\n",
    "    for word in words:\n",
    "        if word in word_dict.keys():\n",
    "            word_dict[word] += 1\n",
    "        else:\n",
    "            word_dict[word] = 1\n",
    "    return word_dict"
   ]
  },
  {
   "cell_type": "code",
   "execution_count": 27,
   "id": "dadc8b80",
   "metadata": {},
   "outputs": [],
   "source": [
    "sentiments = {}\n",
    "for sentim in sentiment_labels:\n",
    "    df2 = df.groupby('sentiment')\n",
    "    sentiments[sentim] = {}\n",
    "    for row in df2.get_group(sentim)['message']:\n",
    "        sentiments[sentim] = bag_of_words_count(row, sentiments[sentim])    "
   ]
  },
  {
   "cell_type": "code",
   "execution_count": 28,
   "id": "5a8b8812",
   "metadata": {},
   "outputs": [],
   "source": [
    "all_words = set()\n",
    "for sentim in sentiment_labels:\n",
    "    for word in sentiments[sentim]:\n",
    "        all_words.add(word)"
   ]
  },
  {
   "cell_type": "code",
   "execution_count": 29,
   "id": "fae23a2e",
   "metadata": {},
   "outputs": [],
   "source": [
    "sentiments['all'] = {}\n",
    "for sentim in sentiment_labels:\n",
    "    for word in all_words:\n",
    "        if word in sentiments[sentim].keys():\n",
    "            if word in sentiments['all']:\n",
    "                sentiments['all'][word] += sentiments[sentim][word]\n",
    "            else:\n",
    "                sentiments['all'][word] = sentiments[sentim][word]"
   ]
  },
  {
   "cell_type": "code",
   "execution_count": 30,
   "id": "fe920c29",
   "metadata": {},
   "outputs": [
    {
     "name": "stdout",
     "output_type": "stream",
     "text": [
      "1956455\n"
     ]
    }
   ],
   "source": [
    "total_words = sum([v for v in sentiments['all'].values()])\n",
    "print(total_words)"
   ]
  },
  {
   "cell_type": "code",
   "execution_count": 31,
   "id": "3d026d11",
   "metadata": {},
   "outputs": [
    {
     "data": {
      "text/plain": [
       "Text(0.5, 0, 'word frequency')"
      ]
     },
     "execution_count": 31,
     "metadata": {},
     "output_type": "execute_result"
    },
    {
     "data": {
      "image/png": "[encoded data removed]",
      "text/plain": [
       "<Figure size 432x288 with 1 Axes>"
      ]
     },
     "metadata": {
      "needs_background": "light"
     },
     "output_type": "display_data"
    }
   ],
   "source": [
    "_ = plt.hist([v for v in sentiments['all'].values() if v < 10],bins=10)\n",
    "plt.ylabel(\"# of words\")\n",
    "plt.xlabel(\"word frequency\") \n",
    "\n",
    "#more words appear once only out of 1.9. millions times"
   ]
  },
  {
   "cell_type": "code",
   "execution_count": 32,
   "id": "4a912f57",
   "metadata": {},
   "outputs": [
    {
     "data": {
      "text/plain": [
       "217"
      ]
     },
     "execution_count": 32,
     "metadata": {},
     "output_type": "execute_result"
    }
   ],
   "source": [
    "len([v for v in sentiments['all'].values() if v == 1])#total "
   ]
  },
  {
   "cell_type": "code",
   "execution_count": 33,
   "id": "687900f3",
   "metadata": {},
   "outputs": [
    {
     "name": "stdout",
     "output_type": "stream",
     "text": [
      "['⏰', '✊', 'м', 'п', '😬', '«', '🦋', '🙋', '🐞', '🌻', '🌤', '💪', '🌴', '►', '±', '―', '🦄', '👀', '🌲', '🙌', '😑', '🏔', '🕊', '🐾', '⛄', '🇨', 'ь', 'ª', '🐧', '，', '🇦', '🌈', '📝', 'ю', '😨', '😌', '😞', '🌱', '²', 'щ', '⃣', '✅', '🤰', 'ö', '☹', 'ツ', '🔫', '👍', 'ฉ', '⏳', '☎', '😠', '🕣', '💖', '🍄', '：', '🌳', 'く', 'ë', 'ま', '受', '影', '響', 'и', 'ट', '）', '欧', '⬆', 'け', '📢', 'ै', '😏', '報', 'き', '👑', '警', '州', 'す', 'т', 'Н', '最', 'も', 'が', '（', 'в', '\\u200c', '通', 'ड', '算', 'Ｋ', '時', 'オ', '命', 'श', 'Ｈ', 'è', 'ธ', '話', '😎', 'え']\n"
     ]
    }
   ],
   "source": [
    "rare_words = [k for k, v in sentiments['all'].items() if v==1]\n",
    "print(rare_words[:100])"
   ]
  },
  {
   "cell_type": "code",
   "execution_count": 34,
   "id": "3f737965",
   "metadata": {},
   "outputs": [
    {
     "name": "stdout",
     "output_type": "stream",
     "text": [
      "144\n",
      "1955548\n"
     ]
    }
   ],
   "source": [
    "# how many words appear more than 10 times?\n",
    "# how many words of the total does that account for?\n",
    "print(len([v for v in sentiments['all'].values() if v >= 10]))\n",
    "occurs_more_than_10_times = sum([v for v in sentiments['all'].values() if v >= 10])\n",
    "print(occurs_more_than_10_times)"
   ]
  },
  {
   "cell_type": "code",
   "execution_count": 35,
   "id": "4cee4e4b",
   "metadata": {},
   "outputs": [
    {
     "data": {
      "text/plain": [
       "0.9995364064085297"
      ]
     },
     "execution_count": 35,
     "metadata": {},
     "output_type": "execute_result"
    }
   ],
   "source": [
    "occurs_more_than_10_times/total_words"
   ]
  },
  {
   "cell_type": "code",
   "execution_count": 36,
   "id": "26448cc3",
   "metadata": {},
   "outputs": [],
   "source": [
    "max_count = 10\n",
    "remaining_word_index = [k for k, v in sentiments['all'].items() if v > max_count]"
   ]
  },
  {
   "cell_type": "code",
   "execution_count": 37,
   "id": "813fc66f",
   "metadata": {
    "scrolled": true
   },
   "outputs": [
    {
     "data": {
      "text/plain": [
       "0.9995364064085297"
      ]
     },
     "execution_count": 37,
     "metadata": {},
     "output_type": "execute_result"
    }
   ],
   "source": [
    "occurs_more_than_10_times/total_words"
   ]
  },
  {
   "cell_type": "markdown",
   "id": "ccdcd951",
   "metadata": {},
   "source": [
    "# ngram"
   ]
  },
  {
   "cell_type": "code",
   "execution_count": 38,
   "id": "a36c7f62",
   "metadata": {},
   "outputs": [],
   "source": [
    "from nltk.util import ngrams"
   ]
  },
  {
   "cell_type": "code",
   "execution_count": 39,
   "id": "8f815d68",
   "metadata": {},
   "outputs": [],
   "source": [
    "def word_grams(words, min_n=1, max_n=4):\n",
    "    s = []\n",
    "    for n in range(min_n, max_n):\n",
    "        for ngram in ngrams(words, n):\n",
    "            s.append(' '.join(str(i) for i in ngram))\n",
    "    return s"
   ]
  },
  {
   "cell_type": "code",
   "execution_count": 40,
   "id": "04021af3",
   "metadata": {},
   "outputs": [
    {
     "name": "stdout",
     "output_type": "stream",
     "text": [
      "['one', 'two', 'three', 'four', 'one two', 'two three', 'three four', 'one two three', 'two three four']\n"
     ]
    }
   ],
   "source": [
    "print (word_grams('one two three four'.split(' ')))"
   ]
  },
  {
   "cell_type": "code",
   "execution_count": 41,
   "id": "aa40c2d6",
   "metadata": {},
   "outputs": [
    {
     "data": {
      "text/plain": [
       "[('RT', '@'),\n",
       " ('@', 'kelkulus'),\n",
       " ('kelkulus', ':'),\n",
       " (':', 'Irony'),\n",
       " ('Irony', ':'),\n",
       " (':', 'Florida'),\n",
       " ('Florida', ','),\n",
       " (',', 'a'),\n",
       " ('a', 'state'),\n",
       " ('state', 'in'),\n",
       " ('in', 'danger'),\n",
       " ('danger', 'of'),\n",
       " ('of', 'being'),\n",
       " ('being', 'washed'),\n",
       " ('washed', 'away'),\n",
       " ('away', 'due'),\n",
       " ('due', 'to'),\n",
       " ('to', 'rising'),\n",
       " ('rising', 'sea'),\n",
       " ('sea', 'levels'),\n",
       " ('levels', ','),\n",
       " (',', 'just'),\n",
       " ('just', 'elected'),\n",
       " ('elected', 'a'),\n",
       " ('a', 'guy'),\n",
       " ('guy', 'who'),\n",
       " ('who', 'denies'),\n",
       " ('denies', 'climate'),\n",
       " ('climate', 'changeÃ¢â‚¬Â¦')]"
      ]
     },
     "execution_count": 41,
     "metadata": {},
     "output_type": "execute_result"
    }
   ],
   "source": [
    "[x for x in ngrams(df.iloc[55]['tokens'], 2)]"
   ]
  },
  {
   "cell_type": "markdown",
   "id": "ea4c1324",
   "metadata": {},
   "source": [
    "# Vectorization"
   ]
  },
  {
   "cell_type": "code",
   "execution_count": 42,
   "id": "a9093938",
   "metadata": {},
   "outputs": [],
   "source": [
    "from sklearn.feature_extraction.text import CountVectorizer"
   ]
  },
  {
   "cell_type": "code",
   "execution_count": 43,
   "id": "a2af86d8",
   "metadata": {},
   "outputs": [
    {
     "data": {
      "text/plain": [
       "CountVectorizer()"
      ]
     },
     "execution_count": 43,
     "metadata": {},
     "output_type": "execute_result"
    }
   ],
   "source": [
    "vect = CountVectorizer()\n",
    "vect.fit(df['message'])"
   ]
  },
  {
   "cell_type": "code",
   "execution_count": 44,
   "id": "e3c16cd8",
   "metadata": {},
   "outputs": [],
   "source": [
    "vect = CountVectorizer(stop_words='english')"
   ]
  },
  {
   "cell_type": "code",
   "execution_count": 45,
   "id": "5dc9e984",
   "metadata": {},
   "outputs": [],
   "source": [
    "vect = CountVectorizer(ngram_range=(1, 2))"
   ]
  },
  {
   "cell_type": "code",
   "execution_count": 46,
   "id": "f2b249f3",
   "metadata": {},
   "outputs": [],
   "source": [
    "vect = CountVectorizer(max_df=0.5)"
   ]
  },
  {
   "cell_type": "code",
   "execution_count": 47,
   "id": "56a61bfe",
   "metadata": {},
   "outputs": [],
   "source": [
    "vect = CountVectorizer(min_df=2)"
   ]
  },
  {
   "cell_type": "code",
   "execution_count": 48,
   "id": "91a0717d",
   "metadata": {},
   "outputs": [],
   "source": [
    "betterVect = CountVectorizer(stop_words='english',\n",
    "                             min_df=2,\n",
    "                             max_df=0.5,\n",
    "                             ngram_range=(1, 1))"
   ]
  },
  {
   "cell_type": "code",
   "execution_count": 49,
   "id": "5b23f25e",
   "metadata": {},
   "outputs": [
    {
     "data": {
      "text/plain": [
       "CountVectorizer(max_df=0.5, min_df=2, stop_words='english')"
      ]
     },
     "execution_count": 49,
     "metadata": {},
     "output_type": "execute_result"
    }
   ],
   "source": [
    "betterVect.fit(df['message'])"
   ]
  },
  {
   "cell_type": "code",
   "execution_count": 50,
   "id": "44ff44cd",
   "metadata": {},
   "outputs": [
    {
     "data": {
      "text/html": [
       "<div>\n",
       "<style scoped>\n",
       "    .dataframe tbody tr th:only-of-type {\n",
       "        vertical-align: middle;\n",
       "    }\n",
       "\n",
       "    .dataframe tbody tr th {\n",
       "        vertical-align: top;\n",
       "    }\n",
       "\n",
       "    .dataframe thead th {\n",
       "        text-align: right;\n",
       "    }\n",
       "</style>\n",
       "<table border=\"1\" class=\"dataframe\">\n",
       "  <thead>\n",
       "    <tr style=\"text-align: right;\">\n",
       "      <th></th>\n",
       "      <th>sentiment</th>\n",
       "      <th>message</th>\n",
       "      <th>tweetid</th>\n",
       "      <th>tokens</th>\n",
       "      <th>stemmed</th>\n",
       "      <th>lemma</th>\n",
       "    </tr>\n",
       "  </thead>\n",
       "  <tbody>\n",
       "    <tr>\n",
       "      <th>0</th>\n",
       "      <td>1</td>\n",
       "      <td>PolySciMajor EPA chief doesn't think carbon di...</td>\n",
       "      <td>625221</td>\n",
       "      <td>[PolySciMajor, EPA, chief, does, n't, think, c...</td>\n",
       "      <td>[polyscimajor, epa, chief, doe, n't, think, ca...</td>\n",
       "      <td>[PolySciMajor, EPA, chief, doe, n't, think, ca...</td>\n",
       "    </tr>\n",
       "    <tr>\n",
       "      <th>1</th>\n",
       "      <td>1</td>\n",
       "      <td>It's not like we lack evidence of anthropogeni...</td>\n",
       "      <td>126103</td>\n",
       "      <td>[It, 's, not, like, we, lack, evidence, of, an...</td>\n",
       "      <td>[it, 's, not, like, we, lack, evid, of, anthro...</td>\n",
       "      <td>[It, 's, not, like, we, lack, evidence, of, an...</td>\n",
       "    </tr>\n",
       "    <tr>\n",
       "      <th>2</th>\n",
       "      <td>2</td>\n",
       "      <td>RT @RawStory: Researchers say we have three ye...</td>\n",
       "      <td>698562</td>\n",
       "      <td>[RT, @, RawStory, :, Researchers, say, we, hav...</td>\n",
       "      <td>[rt, @, rawstori, :, research, say, we, have, ...</td>\n",
       "      <td>[RT, @, RawStory, :, Researchers, say, we, hav...</td>\n",
       "    </tr>\n",
       "    <tr>\n",
       "      <th>3</th>\n",
       "      <td>1</td>\n",
       "      <td>#TodayinMaker# WIRED : 2016 was a pivotal year...</td>\n",
       "      <td>573736</td>\n",
       "      <td>[#, TodayinMaker, #, WIRED, :, 2016, was, a, p...</td>\n",
       "      <td>[#, todayinmak, #, wire, :, 2016, was, a, pivo...</td>\n",
       "      <td>[#, TodayinMaker, #, WIRED, :, 2016, wa, a, pi...</td>\n",
       "    </tr>\n",
       "    <tr>\n",
       "      <th>4</th>\n",
       "      <td>1</td>\n",
       "      <td>RT @SoyNovioDeTodas: It's 2016, and a racist, ...</td>\n",
       "      <td>466954</td>\n",
       "      <td>[RT, @, SoyNovioDeTodas, :, It, 's, 2016, ,, a...</td>\n",
       "      <td>[rt, @, soynoviodetoda, :, it, 's, 2016, ,, an...</td>\n",
       "      <td>[RT, @, SoyNovioDeTodas, :, It, 's, 2016, ,, a...</td>\n",
       "    </tr>\n",
       "  </tbody>\n",
       "</table>\n",
       "</div>"
      ],
      "text/plain": [
       "   sentiment                                            message  tweetid  \\\n",
       "0          1  PolySciMajor EPA chief doesn't think carbon di...   625221   \n",
       "1          1  It's not like we lack evidence of anthropogeni...   126103   \n",
       "2          2  RT @RawStory: Researchers say we have three ye...   698562   \n",
       "3          1  #TodayinMaker# WIRED : 2016 was a pivotal year...   573736   \n",
       "4          1  RT @SoyNovioDeTodas: It's 2016, and a racist, ...   466954   \n",
       "\n",
       "                                              tokens  \\\n",
       "0  [PolySciMajor, EPA, chief, does, n't, think, c...   \n",
       "1  [It, 's, not, like, we, lack, evidence, of, an...   \n",
       "2  [RT, @, RawStory, :, Researchers, say, we, hav...   \n",
       "3  [#, TodayinMaker, #, WIRED, :, 2016, was, a, p...   \n",
       "4  [RT, @, SoyNovioDeTodas, :, It, 's, 2016, ,, a...   \n",
       "\n",
       "                                             stemmed  \\\n",
       "0  [polyscimajor, epa, chief, doe, n't, think, ca...   \n",
       "1  [it, 's, not, like, we, lack, evid, of, anthro...   \n",
       "2  [rt, @, rawstori, :, research, say, we, have, ...   \n",
       "3  [#, todayinmak, #, wire, :, 2016, was, a, pivo...   \n",
       "4  [rt, @, soynoviodetoda, :, it, 's, 2016, ,, an...   \n",
       "\n",
       "                                               lemma  \n",
       "0  [PolySciMajor, EPA, chief, doe, n't, think, ca...  \n",
       "1  [It, 's, not, like, we, lack, evidence, of, an...  \n",
       "2  [RT, @, RawStory, :, Researchers, say, we, hav...  \n",
       "3  [#, TodayinMaker, #, WIRED, :, 2016, wa, a, pi...  \n",
       "4  [RT, @, SoyNovioDeTodas, :, It, 's, 2016, ,, a...  "
      ]
     },
     "execution_count": 50,
     "metadata": {},
     "output_type": "execute_result"
    }
   ],
   "source": [
    "df.head()"
   ]
  },
  {
   "cell_type": "markdown",
   "id": "abee125e",
   "metadata": {},
   "source": [
    "# EDA"
   ]
  },
  {
   "cell_type": "code",
   "execution_count": 51,
   "id": "3fdcbd85",
   "metadata": {},
   "outputs": [
    {
     "name": "stdout",
     "output_type": "stream",
     "text": [
      "<class 'pandas.core.frame.DataFrame'>\n",
      "RangeIndex: 15819 entries, 0 to 15818\n",
      "Data columns (total 6 columns):\n",
      " #   Column     Non-Null Count  Dtype \n",
      "---  ------     --------------  ----- \n",
      " 0   sentiment  15819 non-null  int64 \n",
      " 1   message    15819 non-null  object\n",
      " 2   tweetid    15819 non-null  int64 \n",
      " 3   tokens     15819 non-null  object\n",
      " 4   stemmed    15819 non-null  object\n",
      " 5   lemma      15819 non-null  object\n",
      "dtypes: int64(2), object(4)\n",
      "memory usage: 741.6+ KB\n"
     ]
    }
   ],
   "source": [
    "df.info()"
   ]
  },
  {
   "cell_type": "code",
   "execution_count": 52,
   "id": "f0065ff7",
   "metadata": {},
   "outputs": [
    {
     "name": "stderr",
     "output_type": "stream",
     "text": [
      "/Users/admin/opt/anaconda3/lib/python3.8/site-packages/seaborn/distributions.py:2557: FutureWarning: `distplot` is a deprecated function and will be removed in a future version. Please adapt your code to use either `displot` (a figure-level function with similar flexibility) or `histplot` (an axes-level function for histograms).\n",
      "  warnings.warn(msg, FutureWarning)\n",
      "/Users/admin/opt/anaconda3/lib/python3.8/site-packages/seaborn/distributions.py:2557: FutureWarning: `distplot` is a deprecated function and will be removed in a future version. Please adapt your code to use either `displot` (a figure-level function with similar flexibility) or `histplot` (an axes-level function for histograms).\n",
      "  warnings.warn(msg, FutureWarning)\n",
      "/Users/admin/opt/anaconda3/lib/python3.8/site-packages/seaborn/distributions.py:2557: FutureWarning: `distplot` is a deprecated function and will be removed in a future version. Please adapt your code to use either `displot` (a figure-level function with similar flexibility) or `histplot` (an axes-level function for histograms).\n",
      "  warnings.warn(msg, FutureWarning)\n",
      "/Users/admin/opt/anaconda3/lib/python3.8/site-packages/seaborn/distributions.py:2557: FutureWarning: `distplot` is a deprecated function and will be removed in a future version. Please adapt your code to use either `displot` (a figure-level function with similar flexibility) or `histplot` (an axes-level function for histograms).\n",
      "  warnings.warn(msg, FutureWarning)\n"
     ]
    },
    {
     "data": {
      "text/plain": [
       "Text(0, 0.5, 'Density')"
      ]
     },
     "execution_count": 52,
     "metadata": {},
     "output_type": "execute_result"
    },
    {
     "data": {
      "image/png": "[encoded data removed]",
      "text/plain": [
       "<Figure size 1152x576 with 4 Axes>"
      ]
     },
     "metadata": {
      "needs_background": "light"
     },
     "output_type": "display_data"
    }
   ],
   "source": [
    "# Distribution plots for the label\n",
    "fig,(ax1,ax2,ax3,ax4) = plt.subplots(1,4,figsize=(16,8))\n",
    "\n",
    "#For Positive \n",
    "sns.distplot(df[df['sentiment']==1]['message'].str.len(), hist=True, kde=True,\n",
    "             bins=int(200/25), color = 'green', \n",
    "             ax = ax1,\n",
    "             hist_kws={'edgecolor':'black'},\n",
    "             kde_kws={'linewidth': 4})\n",
    "ax1.set_title('Positive')\n",
    "ax1.set_xlabel('message_Length')\n",
    "ax1.set_ylabel('Density')\n",
    "\n",
    "#For Negative \n",
    "sns.distplot(df[df['sentiment']==-1]['message'].str.len(), hist=True, kde=True,\n",
    "             bins=int(200/25), color = 'red', \n",
    "             ax = ax2,\n",
    "             hist_kws={'edgecolor':'black'},\n",
    "             kde_kws={'linewidth': 4})\n",
    "ax2.set_title('Negative ')\n",
    "ax2.set_xlabel('message_Length')\n",
    "ax2.set_ylabel('Density')\n",
    "\n",
    "#For Neutral \n",
    "sns.distplot(df[df['sentiment']==0]['message'].str.len(), hist=True, kde=True,\n",
    "             bins=int(200/25), color = 'purple',  \n",
    "             ax = ax3,\n",
    "             hist_kws={'edgecolor':'black'},\n",
    "             kde_kws={'linewidth': 4})\n",
    "ax3.set_title('Neutral ')\n",
    "ax3.set_xlabel('message_Length')\n",
    "ax3.set_ylabel('Density')\n",
    "\n",
    "#For Neews\n",
    "sns.distplot(df[df['sentiment']==2]['message'].str.len(), hist=True, kde=True,\n",
    "             bins=int(200/25), color = 'blue', \n",
    "             ax = ax4,\n",
    "             hist_kws={'edgecolor':'black'},\n",
    "             kde_kws={'linewidth': 4})\n",
    "ax4.set_title('News')\n",
    "ax4.set_xlabel('message_Length')\n",
    "ax4.set_ylabel('Density')"
   ]
  },
  {
   "cell_type": "markdown",
   "id": "7088effa",
   "metadata": {},
   "source": [
    "The high word density (0.04) seen in the group of people with positive sentinments/believers of climate change is no suprise at all which could mean that they have more to say on a tweet about climate change, probably because their tweets are backed up by scientific facts of which they include in the tweet itself wherease all the other sentiment classes have a lower word density as compared to the positive sentiment class. "
   ]
  },
  {
   "cell_type": "code",
   "execution_count": 53,
   "id": "a0b1f068",
   "metadata": {},
   "outputs": [],
   "source": [
    "working_df = df.copy()\n",
    "# Labeling the target\n",
    "working_df['sentiment'] = [['Negative', 'Neutral', 'Positive', 'News'][x+1] for x in working_df['sentiment']]\n"
   ]
  },
  {
   "cell_type": "code",
   "execution_count": 54,
   "id": "0501b7d3",
   "metadata": {},
   "outputs": [],
   "source": [
    "believer_df = df[df.sentiment==1]\n",
    "denier_df = df[df.sentiment==-1]\n",
    "neutral_df = df[df.sentiment==0]\n",
    "news_df = df[df.sentiment==2]"
   ]
  },
  {
   "cell_type": "code",
   "execution_count": 55,
   "id": "af0bdeac",
   "metadata": {},
   "outputs": [
    {
     "data": {
      "image/png": "[encoded data removed]",
      "text/plain": [
       "<Figure size 432x288 with 1 Axes>"
      ]
     },
     "metadata": {
      "needs_background": "light"
     },
     "output_type": "display_data"
    }
   ],
   "source": [
    "# Visualizing text lengths for each sentiment#average text length of each sentiment\n",
    "sns.barplot(x='sentiment', y=working_df['message'].apply(len) ,data = working_df, palette='PRGn')\n",
    "plt.ylabel('Length')\n",
    "plt.xlabel('Sentiment')\n",
    "plt.title('Average Length of Message by Sentiment')\n",
    "plt.show()"
   ]
  },
  {
   "cell_type": "markdown",
   "id": "158ff5b8",
   "metadata": {},
   "source": [
    "\n",
    "The average length of the positive sentiments about climate change shows to be longer than those of other sentiment classes which agrees with the above markdown made about positive sentiments."
   ]
  },
  {
   "cell_type": "code",
   "execution_count": 56,
   "id": "e7fbca8a",
   "metadata": {},
   "outputs": [],
   "source": [
    "# Extracting Users in a column\n",
    "working_df['users'] = [''.join(re.findall(r'@\\w{,}', line)) \n",
    "                       if '@' in line else np.nan for line in working_df.message]\n",
    "\n",
    "# Creating a column of hastags\n",
    "working_df['hashtags'] = [' '.join(re.findall(r'#\\w{,}', line)) \n",
    "                       if '#' in line else np.nan for line in working_df.message]"
   ]
  },
  {
   "cell_type": "code",
   "execution_count": 57,
   "id": "dee17db1",
   "metadata": {},
   "outputs": [],
   "source": [
    "# Generating Counts of users\n",
    "counts = working_df[['message', 'users']].groupby('users', as_index=False).count().sort_values(by='message', ascending=False)"
   ]
  },
  {
   "cell_type": "code",
   "execution_count": 58,
   "id": "be4fcfc8",
   "metadata": {
    "scrolled": true
   },
   "outputs": [
    {
     "data": {
      "text/html": [
       "<div>\n",
       "<style scoped>\n",
       "    .dataframe tbody tr th:only-of-type {\n",
       "        vertical-align: middle;\n",
       "    }\n",
       "\n",
       "    .dataframe tbody tr th {\n",
       "        vertical-align: top;\n",
       "    }\n",
       "\n",
       "    .dataframe thead th {\n",
       "        text-align: right;\n",
       "    }\n",
       "</style>\n",
       "<table border=\"1\" class=\"dataframe\">\n",
       "  <thead>\n",
       "    <tr style=\"text-align: right;\">\n",
       "      <th></th>\n",
       "      <th>users</th>\n",
       "      <th>message</th>\n",
       "    </tr>\n",
       "  </thead>\n",
       "  <tbody>\n",
       "    <tr>\n",
       "      <th>3410</th>\n",
       "      <td>@StephenSchlegel</td>\n",
       "      <td>307</td>\n",
       "    </tr>\n",
       "    <tr>\n",
       "      <th>3270</th>\n",
       "      <td>@SenSanders</td>\n",
       "      <td>243</td>\n",
       "    </tr>\n",
       "    <tr>\n",
       "      <th>6182</th>\n",
       "      <td>@realDonaldTrump</td>\n",
       "      <td>143</td>\n",
       "    </tr>\n",
       "    <tr>\n",
       "      <th>448</th>\n",
       "      <td>@BernieSanders</td>\n",
       "      <td>121</td>\n",
       "    </tr>\n",
       "    <tr>\n",
       "      <th>612</th>\n",
       "      <td>@CNN</td>\n",
       "      <td>106</td>\n",
       "    </tr>\n",
       "  </tbody>\n",
       "</table>\n",
       "</div>"
      ],
      "text/plain": [
       "                 users  message\n",
       "3410  @StephenSchlegel      307\n",
       "3270       @SenSanders      243\n",
       "6182  @realDonaldTrump      143\n",
       "448     @BernieSanders      121\n",
       "612               @CNN      106"
      ]
     },
     "execution_count": 58,
     "metadata": {},
     "output_type": "execute_result"
    }
   ],
   "source": [
    "# Top 5 most popular\n",
    "counts.head(5)"
   ]
  },
  {
   "cell_type": "markdown",
   "id": "3c286cf7",
   "metadata": {},
   "source": [
    "Top 5 tweets come from influential people. Bernie Sanders is an american activist who recently ran for president in 2020, his views on climate change are positive, he believes in climate change and changing towards using green energy.Stephen Schlegel is a well known business man in the health industry, Donald trum is the former president of the USA while CNN is a well known national news channel in USA. Which shows that climate change is a topic of concern to highly influential people/companies, if their views are seen on social media(tweeter) this can influence the way people generally perceive climate change and therefore people that are influential such as Bernie Sanders can affect how most people percieve climate change and products associated with it, as far as marketing strategies are involved, involving influential people is an advantage. "
   ]
  },
  {
   "cell_type": "code",
   "execution_count": 59,
   "id": "02f91d84",
   "metadata": {},
   "outputs": [],
   "source": [
    "# Creating a column of hastags\n",
    "working_df['hashtags'] = [' '.join(re.findall(r'#\\w{,}', line)) \n",
    "                       if '#' in line else np.nan for line in working_df.message]"
   ]
  },
  {
   "cell_type": "code",
   "execution_count": 60,
   "id": "ae520526",
   "metadata": {},
   "outputs": [
    {
     "data": {
      "image/png": "[encoded data removed]",
      "text/plain": [
       "<Figure size 432x288 with 1 Axes>"
      ]
     },
     "metadata": {},
     "output_type": "display_data"
    }
   ],
   "source": [
    "# checking the numerical distribution of sentiments \n",
    "values = working_df['sentiment'].value_counts()/working_df.shape[0]\n",
    "labels = (working_df['sentiment'].value_counts()/working_df.shape[0]).index\n",
    "colors = ['lightgreen', 'blue', 'purple', 'lightsteelblue']\n",
    "plt.pie(x=values, labels=labels, autopct='%1.1f%%', startangle=90, explode= (0.04, 0, 0, 0), colors=colors)\n",
    "plt.show()"
   ]
  },
  {
   "cell_type": "code",
   "execution_count": 101,
   "id": "f6355b7c",
   "metadata": {},
   "outputs": [],
   "source": [
    "believer_df = df[df.sentiment==1]\n",
    "denier_df = df[df.sentiment==-1]\n",
    "neutral_df = df[df.sentiment==0]\n",
    "news_df = df[df.sentiment==2]"
   ]
  },
  {
   "cell_type": "code",
   "execution_count": 115,
   "id": "b26121e8",
   "metadata": {},
   "outputs": [],
   "source": [
    "def create_corpus(sentiment):\n",
    "    corpus=[]\n",
    "    \n",
    "    for x in tweet[tweet['sentiment']==target]['message'].str.split():\n",
    "        for i in x:\n",
    "            corpus.append(i)\n",
    "    return corpus"
   ]
  },
  {
   "cell_type": "code",
   "execution_count": 116,
   "id": "34c52a25",
   "metadata": {},
   "outputs": [
    {
     "data": {
      "image/png": "[encoded data removed]",
      "text/plain": [
       "<Figure size 432x288 with 1 Axes>"
      ]
     },
     "metadata": {
      "needs_background": "light"
     },
     "output_type": "display_data"
    }
   ],
   "source": [
    "# Analysis of most popular tags, sorted by populariy\n",
    "sns.countplot(y=\"users\", hue=\"sentiment\", data=working_df, palette='PRGn',\n",
    "              order=working_df.users.value_counts().iloc[:5].index) \n",
    "\n",
    "plt.ylabel('User')\n",
    "plt.xlabel('Number of Tags')\n",
    "plt.title('Top 5 Most Popular Tags')\n",
    "plt.show()\n",
    "#plt.xticks(rotation=90)"
   ]
  },
  {
   "cell_type": "code",
   "execution_count": 122,
   "id": "b830f0b6",
   "metadata": {},
   "outputs": [],
   "source": [
    "from collections import  Counter\n",
    "stop=set(stopwords.words('english'))"
   ]
  },
  {
   "cell_type": "code",
   "execution_count": 131,
   "id": "c1df6f6f",
   "metadata": {},
   "outputs": [],
   "source": [
    "def create_corpus(sentiment):\n",
    "    corpus=[]\n",
    "    \n",
    "    for x in df[df['sentiment']==sentiment]['message'].str.split():\n",
    "        for i in x:\n",
    "            corpus.append(i)\n",
    "    return corpus"
   ]
  },
  {
   "cell_type": "code",
   "execution_count": 133,
   "id": "521b3a42",
   "metadata": {},
   "outputs": [],
   "source": [
    "from collections import defaultdict"
   ]
  },
  {
   "cell_type": "code",
   "execution_count": 134,
   "id": "2956287c",
   "metadata": {},
   "outputs": [],
   "source": [
    "corpus=create_corpus(0)\n",
    "\n",
    "dic=defaultdict(int)\n",
    "for word in corpus:\n",
    "    if word in stop:\n",
    "        dic[word]+=1\n",
    "        \n",
    "top=sorted(dic.items(), key=lambda x:x[1],reverse=True)[:10] "
   ]
  },
  {
   "cell_type": "code",
   "execution_count": 169,
   "id": "1862c6c5",
   "metadata": {},
   "outputs": [
    {
     "data": {
      "text/plain": [
       "<BarContainer object of 5 artists>"
      ]
     },
     "execution_count": 169,
     "metadata": {},
     "output_type": "execute_result"
    },
    {
     "data": {
      "image/png": "[encoded data removed]",
      "text/plain": [
       "<Figure size 432x288 with 1 Axes>"
      ]
     },
     "metadata": {
      "needs_background": "light"
     },
     "output_type": "display_data"
    }
   ],
   "source": [
    "corpus=create_corpus(1)\n",
    "\n",
    "dic=defaultdict(int)\n",
    "for word in corpus:\n",
    "    if (word not in stop):\n",
    "        dic[word]+=1\n",
    "\n",
    "top=sorted(dic.items(), key=lambda x:x[1],reverse=True)[60:65] \n",
    "    \n",
    "\n",
    "\n",
    "x,y=zip(*top)\n",
    "plt.bar(x,y)"
   ]
  },
  {
   "cell_type": "code",
   "execution_count": 170,
   "id": "ce8f15ab",
   "metadata": {},
   "outputs": [
    {
     "data": {
      "text/plain": [
       "<BarContainer object of 5 artists>"
      ]
     },
     "execution_count": 170,
     "metadata": {},
     "output_type": "execute_result"
    },
    {
     "data": {
      "image/png": "[encoded data removed]",
      "text/plain": [
       "<Figure size 432x288 with 1 Axes>"
      ]
     },
     "metadata": {
      "needs_background": "light"
     },
     "output_type": "display_data"
    }
   ],
   "source": [
    "corpus=create_corpus(-1)\n",
    "\n",
    "dic=defaultdict(int)\n",
    "for word in corpus:\n",
    "    if (word not in stop):\n",
    "        dic[word]+=1\n",
    "\n",
    "top=sorted(dic.items(), key=lambda x:x[1],reverse=True)[60:65] \n",
    "    \n",
    "\n",
    "\n",
    "x,y=zip(*top)\n",
    "plt.bar(x,y)"
   ]
  },
  {
   "cell_type": "code",
   "execution_count": 138,
   "id": "293d5c3d",
   "metadata": {},
   "outputs": [],
   "source": [
    "counter=Counter(corpus)\n",
    "most=counter.most_common()\n",
    "x=[]\n",
    "y=[]\n",
    "for word,count in most[:60]:\n",
    "    if (word not in stop) :\n",
    "        x.append(word)\n",
    "        y.append(count)"
   ]
  },
  {
   "cell_type": "code",
   "execution_count": 139,
   "id": "5eec98dd",
   "metadata": {},
   "outputs": [
    {
     "data": {
      "text/plain": [
       "<AxesSubplot:>"
      ]
     },
     "execution_count": 139,
     "metadata": {},
     "output_type": "execute_result"
    },
    {
     "data": {
      "image/png": "[encoded data removed]",
      "text/plain": [
       "<Figure size 432x288 with 1 Axes>"
      ]
     },
     "metadata": {
      "needs_background": "light"
     },
     "output_type": "display_data"
    }
   ],
   "source": [
    "sns.barplot(x=y,y=x)"
   ]
  },
  {
   "cell_type": "markdown",
   "id": "ee064032",
   "metadata": {},
   "source": [
    "# TRAINING THE MODEL"
   ]
  },
  {
   "cell_type": "code",
   "execution_count": 62,
   "id": "0f4e608a",
   "metadata": {},
   "outputs": [],
   "source": [
    "# labels\n",
    "y = df[\"message\"]\n",
    "\n",
    "# features\n",
    "X = df.drop('sentiment', axis=1)"
   ]
  },
  {
   "cell_type": "code",
   "execution_count": 63,
   "id": "b68b9cfc",
   "metadata": {},
   "outputs": [],
   "source": [
    "from sklearn.model_selection import train_test_split"
   ]
  },
  {
   "cell_type": "code",
   "execution_count": 64,
   "id": "cb6135f9",
   "metadata": {},
   "outputs": [],
   "source": [
    "X = df['message']\n",
    "y = df['sentiment']"
   ]
  },
  {
   "cell_type": "code",
   "execution_count": 65,
   "id": "1f4ba4fb",
   "metadata": {},
   "outputs": [
    {
     "data": {
      "text/plain": [
       "(15819,)"
      ]
     },
     "execution_count": 65,
     "metadata": {},
     "output_type": "execute_result"
    }
   ],
   "source": [
    "X.shape"
   ]
  },
  {
   "cell_type": "code",
   "execution_count": 66,
   "id": "bbdc75a1",
   "metadata": {},
   "outputs": [],
   "source": [
    "X_train, X_test, y_train, y_test = train_test_split(X, y, test_size = 0.2, random_state = 0)"
   ]
  },
  {
   "cell_type": "code",
   "execution_count": 67,
   "id": "22f59dc0",
   "metadata": {},
   "outputs": [],
   "source": [
    "from sklearn.feature_extraction.text import TfidfVectorizer"
   ]
  },
  {
   "cell_type": "code",
   "execution_count": 68,
   "id": "3dbcb654",
   "metadata": {},
   "outputs": [],
   "source": [
    "vect = TfidfVectorizer(ngram_range=(1,3), max_df =0.8 ,min_df = 3)"
   ]
  },
  {
   "cell_type": "code",
   "execution_count": 69,
   "id": "c13e42fd",
   "metadata": {},
   "outputs": [],
   "source": [
    "X_train_cv = vect.fit_transform(X_train)\n",
    "X_test_cv  = vect.transform(X_test) "
   ]
  },
  {
   "cell_type": "code",
   "execution_count": 70,
   "id": "719a85e0",
   "metadata": {},
   "outputs": [
    {
     "data": {
      "text/plain": [
       "((12655,), (3164,))"
      ]
     },
     "execution_count": 70,
     "metadata": {},
     "output_type": "execute_result"
    }
   ],
   "source": [
    "X_train.shape, X_test.shape"
   ]
  },
  {
   "cell_type": "code",
   "execution_count": 71,
   "id": "2bcb730b",
   "metadata": {},
   "outputs": [],
   "source": [
    "from sklearn.svm import LinearSVC"
   ]
  },
  {
   "cell_type": "code",
   "execution_count": 72,
   "id": "4c31abaa",
   "metadata": {},
   "outputs": [
    {
     "data": {
      "text/plain": [
       "LinearSVC()"
      ]
     },
     "execution_count": 72,
     "metadata": {},
     "output_type": "execute_result"
    }
   ],
   "source": [
    "clf = LinearSVC()\n",
    "clf.fit(X_train_cv, y_train)"
   ]
  },
  {
   "cell_type": "code",
   "execution_count": 73,
   "id": "de118275",
   "metadata": {},
   "outputs": [],
   "source": [
    "y_pred = clf.predict(X_test_cv)"
   ]
  },
  {
   "cell_type": "code",
   "execution_count": 74,
   "id": "85908589",
   "metadata": {},
   "outputs": [],
   "source": [
    "from sklearn.metrics import classification_report, accuracy_score"
   ]
  },
  {
   "cell_type": "code",
   "execution_count": 75,
   "id": "bcdc8cbf",
   "metadata": {},
   "outputs": [
    {
     "name": "stdout",
     "output_type": "stream",
     "text": [
      "              precision    recall  f1-score   support\n",
      "\n",
      "          -1       0.66      0.43      0.52       249\n",
      "           0       0.59      0.42      0.49       473\n",
      "           1       0.77      0.86      0.81      1701\n",
      "           2       0.75      0.79      0.77       741\n",
      "\n",
      "    accuracy                           0.74      3164\n",
      "   macro avg       0.69      0.62      0.65      3164\n",
      "weighted avg       0.73      0.74      0.73      3164\n",
      "\n"
     ]
    }
   ],
   "source": [
    "print(classification_report(y_test, y_pred))"
   ]
  },
  {
   "cell_type": "markdown",
   "id": "76171e80",
   "metadata": {},
   "source": [
    "# SUBMISSION ON KAGGLE"
   ]
  },
  {
   "cell_type": "code",
   "execution_count": 76,
   "id": "1d56ca12",
   "metadata": {},
   "outputs": [],
   "source": [
    "daf2 = pd.read_csv(\"/Users/admin/Desktop/test_with_no_labels.csv\")"
   ]
  },
  {
   "cell_type": "code",
   "execution_count": 77,
   "id": "08c57d2e",
   "metadata": {},
   "outputs": [],
   "source": [
    "X_test_final = daf2.message\n",
    "X_train_final = df.message\n",
    "y = df.sentiment"
   ]
  },
  {
   "cell_type": "code",
   "execution_count": 78,
   "id": "0120d0a1",
   "metadata": {},
   "outputs": [],
   "source": [
    "cd_train_final = vect.fit_transform(X_train_final)\n",
    "cd_test_final = vect.transform(X_test_final)"
   ]
  },
  {
   "cell_type": "code",
   "execution_count": 79,
   "id": "2bdc4f57",
   "metadata": {},
   "outputs": [
    {
     "data": {
      "text/plain": [
       "LinearSVC()"
      ]
     },
     "execution_count": 79,
     "metadata": {},
     "output_type": "execute_result"
    }
   ],
   "source": [
    "clf.fit(cd_train_final,y)"
   ]
  },
  {
   "cell_type": "code",
   "execution_count": 80,
   "id": "346e43ce",
   "metadata": {},
   "outputs": [],
   "source": [
    "y_pred_kaggle = clf.predict(cd_test_final)"
   ]
  },
  {
   "cell_type": "code",
   "execution_count": 81,
   "id": "27fbabf3",
   "metadata": {},
   "outputs": [],
   "source": [
    "df_k = pd.DataFrame(y_pred_kaggle, columns = ['sentiment'])\n"
   ]
  },
  {
   "cell_type": "code",
   "execution_count": 82,
   "id": "0d0794e7",
   "metadata": {},
   "outputs": [],
   "source": [
    "output = pd.DataFrame({\"tweetid\": daf2.tweetid,\"sentiment\":df_k.sentiment})\n",
    "output.to_csv('latest. 1.csv', index = False)"
   ]
  },
  {
   "cell_type": "code",
   "execution_count": 83,
   "id": "8b534bb7",
   "metadata": {},
   "outputs": [
    {
     "data": {
      "text/plain": [
       "(10546, 1)"
      ]
     },
     "execution_count": 83,
     "metadata": {},
     "output_type": "execute_result"
    }
   ],
   "source": [
    "df_k.shape"
   ]
  },
  {
   "cell_type": "markdown",
   "id": "448938f8",
   "metadata": {},
   "source": [
    "Kaggle submission score 0.759"
   ]
  },
  {
   "cell_type": "markdown",
   "id": "4d936b46",
   "metadata": {},
   "source": [
    "# Testing different models on unbalanced data "
   ]
  },
  {
   "cell_type": "code",
   "execution_count": 84,
   "id": "f4e88a09",
   "metadata": {},
   "outputs": [],
   "source": [
    "from sklearn.linear_model import LogisticRegression\n",
    "from sklearn.svm import SVC\n",
    "from sklearn.naive_bayes import MultinomialNB\n",
    "from sklearn.neighbors import KNeighborsClassifier\n",
    "from sklearn.tree import DecisionTreeClassifier\n",
    "from sklearn.ensemble import RandomForestClassifier\n",
    "from sklearn import metrics\n",
    "from sklearn.pipeline import Pipeline\n",
    "from sklearn.decomposition import LatentDirichletAllocation as LDA\n",
    "from sklearn.model_selection import GridSearchCV\n",
    "from sklearn import metrics"
   ]
  },
  {
   "cell_type": "markdown",
   "id": "9faa9279",
   "metadata": {},
   "source": [
    "# SVM"
   ]
  },
  {
   "cell_type": "code",
   "execution_count": 85,
   "id": "82a8fd62",
   "metadata": {},
   "outputs": [],
   "source": [
    "from sklearn.datasets import make_gaussian_quantiles\n",
    "\n",
    "# Set the feature dimensionality\n",
    "p = 2\n",
    "\n",
    "# Construct the dataset\n",
    "X, y = make_gaussian_quantiles(cov=3.,\n",
    "                                 n_samples=1000, n_features=p,\n",
    "                                 n_classes=2, random_state=1)"
   ]
  },
  {
   "cell_type": "code",
   "execution_count": 86,
   "id": "add14f09",
   "metadata": {},
   "outputs": [],
   "source": [
    "# get training and testing data \n",
    "X_train, X_test, y_train, y_test = train_test_split(X, y, test_size=0.3, random_state=42)"
   ]
  },
  {
   "cell_type": "code",
   "execution_count": 87,
   "id": "18bbe7c2",
   "metadata": {},
   "outputs": [
    {
     "name": "stdout",
     "output_type": "stream",
     "text": [
      "The accuracy score of the SVC is: 0.6133333333333333\n",
      "\n",
      "\n",
      "Classification Report:\n",
      "\n",
      "               precision    recall  f1-score   support\n",
      "\n",
      "           0       0.58      0.83      0.68       150\n",
      "           1       0.70      0.39      0.50       150\n",
      "\n",
      "    accuracy                           0.61       300\n",
      "   macro avg       0.64      0.61      0.59       300\n",
      "weighted avg       0.64      0.61      0.59       300\n",
      "\n"
     ]
    }
   ],
   "source": [
    "from sklearn.svm import SVC\n",
    "\n",
    "svc = SVC(kernel='linear')\n",
    "svc.fit(X_train, y_train)\n",
    "y_pred = svc.predict(X_test)\n",
    "\n",
    "print(\"The accuracy score of the SVC is:\", accuracy_score(y_test, y_pred))\n",
    "print(\"\\n\\nClassification Report:\\n\\n\", classification_report(y_test, y_pred))\n"
   ]
  },
  {
   "cell_type": "code",
   "execution_count": 88,
   "id": "19050915",
   "metadata": {},
   "outputs": [
    {
     "name": "stderr",
     "output_type": "stream",
     "text": [
      "<ipython-input-88-64bdac1c15c9>:15: MatplotlibDeprecationWarning: shading='flat' when X and Y have the same dimensions as C is deprecated since 3.3.  Either specify the corners of the quadrilaterals with X and Y, or pass shading='auto', 'nearest' or 'gouraud', or set rcParams['pcolor.shading'].  This will become an error two minor releases later.\n",
      "  ax1.pcolormesh(xx, yy, y_hat, cmap=plt.cm.get_cmap('RdBu_r'))\n"
     ]
    },
    {
     "data": {
      "image/png": "[encoded data removed]",
      "text/plain": [
       "<Figure size 576x576 with 1 Axes>"
      ]
     },
     "metadata": {},
     "output_type": "display_data"
    }
   ],
   "source": [
    "i = 0 # Feature 1\n",
    "j = 1 # Feature 2\n",
    "\n",
    "svc.fit(X[:, [i, j]], y)\n",
    "fig = plt.figure(figsize=(8, 8))\n",
    "ax1 = fig.add_subplot(111)\n",
    "\n",
    "x_min, x_max = X[:, i].min(), X[:, i].max()\n",
    "y_min, y_max = X[:, j].min(), X[:, j].max()\n",
    "xx, yy = np.meshgrid(np.linspace(x_min, x_max, 1000), np.linspace(y_min, y_max, 1000))\n",
    "\n",
    "y_hat = svc.predict(np.concatenate((xx.reshape(-1,1), yy.reshape(-1,1)), axis=1))\n",
    "y_hat = y_hat.reshape(xx.shape)\n",
    "\n",
    "ax1.pcolormesh(xx, yy, y_hat, cmap=plt.cm.get_cmap('RdBu_r'))\n",
    "ax1.scatter(X[:, i], X[:, j], c=y, edgecolors='k', cmap=plt.cm.get_cmap('RdBu_r'))\n",
    "ax1.set_xlabel('Feature 1')\n",
    "ax1.set_ylabel('Feature 2')\n",
    "ax1.set_xlim(xx.min(), xx.max())\n",
    "ax1.set_ylim(yy.min(), yy.max())\n",
    "ax1.set_xticks(())\n",
    "ax1.set_yticks(())\n",
    "plt.show()"
   ]
  },
  {
   "cell_type": "code",
   "execution_count": 89,
   "id": "5b2d5644",
   "metadata": {},
   "outputs": [
    {
     "name": "stdout",
     "output_type": "stream",
     "text": [
      "The accuracy score of the SVC is: 0.9833333333333333\n",
      "\n",
      "\n",
      "Classification Report:\n",
      "\n",
      "               precision    recall  f1-score   support\n",
      "\n",
      "           0       0.98      0.99      0.98       150\n",
      "           1       0.99      0.98      0.98       150\n",
      "\n",
      "    accuracy                           0.98       300\n",
      "   macro avg       0.98      0.98      0.98       300\n",
      "weighted avg       0.98      0.98      0.98       300\n",
      "\n"
     ]
    }
   ],
   "source": [
    "svc = SVC(kernel='rbf')\n",
    "svc.fit(X_train, y_train)\n",
    "y_pred = svc.predict(X_test)\n",
    "\n",
    "print(\"The accuracy score of the SVC is:\", accuracy_score(y_test, y_pred))\n",
    "print(\"\\n\\nClassification Report:\\n\\n\",classification_report(y_test, y_pred))\n"
   ]
  },
  {
   "cell_type": "code",
   "execution_count": 90,
   "id": "f766fb91",
   "metadata": {},
   "outputs": [],
   "source": [
    "parameters = {'kernel':('linear', 'rbf'),\n",
    "              'C':(0.25,1.0),\n",
    "              'gamma': (1,2)}"
   ]
  },
  {
   "cell_type": "code",
   "execution_count": 91,
   "id": "5bf476a0",
   "metadata": {},
   "outputs": [
    {
     "data": {
      "text/plain": [
       "GridSearchCV(estimator=SVC(),\n",
       "             param_grid={'C': (0.25, 1.0), 'gamma': (1, 2),\n",
       "                         'kernel': ('linear', 'rbf')})"
      ]
     },
     "execution_count": 91,
     "metadata": {},
     "output_type": "execute_result"
    }
   ],
   "source": [
    "svm = SVC()\n",
    "clf = GridSearchCV(svm, parameters)\n",
    "clf.fit(X_train,y_train)"
   ]
  },
  {
   "cell_type": "code",
   "execution_count": 92,
   "id": "dc2e9f12",
   "metadata": {},
   "outputs": [
    {
     "name": "stdout",
     "output_type": "stream",
     "text": [
      "The accuracy for our tuned model is:  0.9666666666666667\n"
     ]
    }
   ],
   "source": [
    "y_opt = clf.predict(X_test)\n",
    "print(\"The accuracy for our tuned model is: \", accuracy_score(y_test, y_opt))"
   ]
  },
  {
   "cell_type": "code",
   "execution_count": 93,
   "id": "1fbc7835",
   "metadata": {},
   "outputs": [
    {
     "data": {
      "text/plain": [
       "{'C': 1.0, 'gamma': 1, 'kernel': 'rbf'}"
      ]
     },
     "execution_count": 93,
     "metadata": {},
     "output_type": "execute_result"
    }
   ],
   "source": [
    "clf.best_params_"
   ]
  },
  {
   "cell_type": "markdown",
   "id": "6ad95162",
   "metadata": {},
   "source": [
    "# Decision Trees"
   ]
  },
  {
   "cell_type": "code",
   "execution_count": 94,
   "id": "6ad899d2",
   "metadata": {},
   "outputs": [],
   "source": [
    "import numpy as np\n",
    "import pandas as pd\n",
    "\n",
    "from sklearn.preprocessing import StandardScaler\n",
    "from sklearn.datasets import load_iris\n",
    "from sklearn.model_selection import train_test_split\n",
    "\n",
    "from sklearn.tree import DecisionTreeClassifier\n",
    "\n",
    "from sklearn.metrics import confusion_matrix\n",
    "from sklearn.metrics import classification_report"
   ]
  },
  {
   "cell_type": "code",
   "execution_count": 95,
   "id": "5d9ab8d1",
   "metadata": {},
   "outputs": [],
   "source": [
    "y = df['sentiment']\n",
    "X = df.drop('sentiment', axis=1)"
   ]
  },
  {
   "cell_type": "code",
   "execution_count": null,
   "id": "02f763b9",
   "metadata": {},
   "outputs": [],
   "source": []
  },
  {
   "cell_type": "code",
   "execution_count": null,
   "id": "c7973eb0",
   "metadata": {},
   "outputs": [],
   "source": []
  }
 ],
 "metadata": {
  "kernelspec": {
   "display_name": "Python 3",
   "language": "python",
   "name": "python3"
  },
  "language_info": {
   "codemirror_mode": {
    "name": "ipython",
    "version": 3
   },
   "file_extension": ".py",
   "mimetype": "text/x-python",
   "name": "python",
   "nbconvert_exporter": "python",
   "pygments_lexer": "ipython3",
   "version": "3.8.8"
  }
 },
 "nbformat": 4,
 "nbformat_minor": 5
}
